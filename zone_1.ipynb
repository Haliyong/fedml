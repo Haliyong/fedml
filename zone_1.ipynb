{
 "cells": [
  {
   "cell_type": "code",
   "execution_count": 29,
   "metadata": {},
   "outputs": [],
   "source": [
    "import pandas as pd\n",
    "import requests\n",
    "import json\n",
    "from sklearn.metrics import mean_squared_error, r2_score, mean_absolute_error\n",
    "import numpy as np"
   ]
  },
  {
   "cell_type": "code",
   "execution_count": 37,
   "metadata": {},
   "outputs": [],
   "source": [
    "zone1_training_data = pd.read_csv(\"seismic_zone_1.csv\")\n",
    "zone1_val_data = pd.read_csv(\"seismic_zone_1_val.csv\")"
   ]
  },
  {
   "cell_type": "code",
   "execution_count": 31,
   "metadata": {},
   "outputs": [],
   "source": [
    "FEATURES = [\"depth\", \"mag\", \"gap\", \"dmin\", \"rms\"]\n",
    "X_test = zone1_val_data[FEATURES] \n",
    "y_true = zone1_val_data[[\"latitude\", \"longitude\"]]"
   ]
  },
  {
   "cell_type": "code",
   "execution_count": 32,
   "metadata": {},
   "outputs": [],
   "source": [
    "API_URL = \"https://fedml.onrender.com/predict\"\n",
    "\n",
    "predictions = []\n",
    "\n",
    "for _, row in X_test.iterrows():\n",
    "    payload = row.to_dict()\n",
    "    \n",
    "    response = requests.post(API_URL, json=payload)\n",
    "    \n",
    "    if response.status_code == 200:\n",
    "        pred = response.json()[\"prediction\"]\n",
    "        predictions.append(pred[0])\n",
    "    else:\n",
    "        print(f\"Error for input {row}: {response.text}\")"
   ]
  },
  {
   "cell_type": "code",
   "execution_count": 33,
   "metadata": {},
   "outputs": [
    {
     "name": "stdout",
     "output_type": "stream",
     "text": [
      "[[9.104788999999997, 126.30407699999991], [9.046328, 126.55313699999995], [8.464489999999998, 126.89308100000005], [11.474763999999999, 123.288332], [10.214765000000007, 124.19327299999986], [12.203899999999997, 123.89699900000001], [7.967854, 125.26291499999999], [9.173031, 126.54832099999994], [10.935919000000004, 124.91359200000001], [10.944843999999998, 124.93166500000005], [11.284814999999998, 124.55103300000005], [7.950206999999997, 125.35398200000004], [11.046110000000004, 125.196334], [9.737944999999995, 125.08066299999994], [10.351885999999995, 125.87100900000004], [10.858643000000002, 124.594634], [8.008827000000005, 125.98612999999992], [7.874467000000002, 126.23150300000005], [7.956059000000006, 126.09881800000002], [9.108523000000002, 125.43237199999997], [8.878331999999999, 126.37440199999986], [11.281902999999991, 124.34894699999995], [9.824016999999994, 125.61612199999992], [8.372584000000003, 126.98547800000001], [10.761912999999998, 124.93298699999993], [11.415660000000003, 125.43251700000002], [9.486981999999992, 123.311485], [10.247308999999996, 126.32312299999994], [10.490867999999999, 125.5851639999999], [8.449156000000004, 126.31086399999997], [11.408601000000008, 123.85364900000005], [9.656841000000004, 124.2228430000001], [10.717346000000004, 125.16715699999995], [9.185305000000001, 125.50034], [9.510257999999999, 125.22056999999997], [10.317606999999995, 123.71437900000001], [9.109059999999998, 125.38819899999993], [10.694694999999992, 125.28654300000011], [12.032937000000004, 123.68933900000003], [11.431242000000003, 124.81775999999996], [10.301214999999996, 125.15041000000001], [11.719346000000005, 124.81479599999999], [9.753712000000002, 126.13077799999998], [8.794877, 126.72810000000001], [8.145272999999998, 127.06956200000012], [11.944477000000001, 124.20205100000001], [10.652103000000006, 124.03865699999997], [9.34438, 124.014836], [8.866718000000002, 126.77020399999994], [11.989393999999999, 124.59694999999998], [11.026203999999998, 123.80221399999999], [8.227457999999999, 126.351461], [10.155867999999998, 125.167608], [10.858013000000001, 124.34779500000002], [10.69010899999999, 125.45878199999997], [9.338410000000001, 125.33695199999984], [11.298279999999991, 125.42881399999996], [8.030131000000006, 125.76574199999988], [11.212730000000006, 125.3992510000001], [9.525843, 125.74805399999987], [9.546828000000003, 125.48215999999996], [12.252627000000002, 124.64132300000001], [9.935183999999996, 124.48055299999992], [11.126742000000004, 124.90140699999995], [8.848908, 125.08806600000005], [8.325822000000002, 126.7048079999999], [8.951650000000006, 126.67491699999988], [8.004341999999998, 125.59301899999998], [10.737065000000005, 125.01554399999993], [8.234083, 126.29970499999996], [11.623583000000005, 125.2609690000001], [10.417322999999993, 125.49194400000006], [10.751701999999996, 125.30967299999999], [10.847149000000003, 125.10971099999995], [10.346681000000004, 125.40198299999992], [12.067560999999998, 124.11440799999998], [10.836399000000005, 125.053502], [11.369145000000001, 123.39927999999998], [10.772874000000003, 125.07691300000002], [7.926398000000003, 126.21749300000009], [7.894852999999995, 125.35213600000002], [9.870767999999995, 126.02157199999992], [9.084173000000002, 126.53511700000007], [9.865826999999985, 125.8117809999999], [12.307347, 124.412858], [9.432419000000001, 125.38124799999996], [11.138014000000005, 125.0172889999999], [10.886353000000003, 124.99186099999999], [11.257742999999998, 125.5671670000001], [11.094826999999995, 124.17767899999998], [9.53019400000001, 126.82475000000004], [7.865093000000002, 126.28155100000005], [9.752669000000003, 126.83888399999996], [11.054143000000002, 125.482225], [12.196712999999999, 124.52229399999999], [10.45612200000001, 123.25539399999991], [10.578985999999995, 125.52879399999989], [9.166673999999997, 124.24573800000002], [12.105394999999998, 124.0865389999999], [8.723515999999996, 125.88747699999996], [10.413150999999992, 126.02070500000012], [10.538337000000004, 125.71393300000005], [9.470544000000004, 123.86915499999999], [10.156769000000002, 124.93686200000002], [10.246254999999998, 125.85431499999999], [12.233848999999996, 124.650281], [10.866549000000003, 125.41352699999992], [10.701951, 123.97134299999999], [7.895284000000001, 126.22133400000003], [8.184842, 126.934848], [11.233867, 125.44423100000007], [11.797455000000003, 124.78351700000006], [8.208925000000004, 126.2964969999999], [10.727176, 124.78168999999988], [9.145775, 125.69838999999989], [11.671666000000007, 125.66597500000016], [9.198371999999996, 126.52229399999999], [8.811396999999992, 126.462665], [10.300248000000003, 125.26615700000002]]\n"
     ]
    }
   ],
   "source": [
    "print(predictions)"
   ]
  },
  {
   "cell_type": "code",
   "execution_count": 34,
   "metadata": {},
   "outputs": [],
   "source": [
    "y_pred = pd.DataFrame(predictions, columns=[\"latitude\", \"longitude\"])"
   ]
  },
  {
   "cell_type": "code",
   "execution_count": null,
   "metadata": {},
   "outputs": [
    {
     "name": "stdout",
     "output_type": "stream",
     "text": [
      "Mean Squared Error (Latitude): 55.6867846556177\n",
      "Mean Squared Error (Longitude): 22.85913167833489\n",
      "\n",
      "R² Score (Latitude): -5.6006510125206415\n",
      "R² Score (Longitude): -21.468817233732548\n",
      "\n",
      "Mean Absolute Error (Latitude): 6.683537563025212\n",
      "Mean Absolute Error (Longitude): 4.655139546218472\n"
     ]
    }
   ],
   "source": [
    "# Ensure y_pred and y_true are properly formatted\n",
    "y_pred = pd.DataFrame(predictions, columns=[\"latitude\", \"longitude\"])\n",
    "y_true = y_true.reset_index(drop=True)\n",
    "\n",
    "# Compute Mean Squared Error (MSE)\n",
    "mse_lat = mean_squared_error(y_true[\"latitude\"], y_pred[\"latitude\"])\n",
    "mse_lon = mean_squared_error(y_true[\"longitude\"], y_pred[\"longitude\"])\n",
    "\n",
    "# Compute R² Score\n",
    "r2_lat = r2_score(y_true[\"latitude\"], y_pred[\"latitude\"])\n",
    "r2_lon = r2_score(y_true[\"longitude\"], y_pred[\"longitude\"])\n",
    "\n",
    "# Compute Mean Absolute Error (MAE)\n",
    "mae_lat = mean_absolute_error(y_true[\"latitude\"], y_pred[\"latitude\"])\n",
    "mae_lon = mean_absolute_error(y_true[\"longitude\"], y_pred[\"longitude\"])\n",
    "\n",
    "# Print results\n",
    "print(f\"Mean Squared Error (Latitude): {mse_lat}\")\n",
    "print(f\"Mean Squared Error (Longitude): {mse_lon}\\n\")\n",
    "\n",
    "print(f\"R² Score (Latitude): {r2_lat}\")\n",
    "print(f\"R² Score (Longitude): {r2_lon}\\n\")\n",
    "\n",
    "print(f\"Mean Absolute Error (Latitude): {mae_lat}\")\n",
    "print(f\"Mean Absolute Error (Longitude): {mae_lon}\")"
   ]
  },
  {
   "cell_type": "code",
   "execution_count": 38,
   "metadata": {},
   "outputs": [
    {
     "name": "stdout",
     "output_type": "stream",
     "text": [
      "{'message': 'Model retrained and saved as zone_0_zone_1_training.pkl.'}\n"
     ]
    }
   ],
   "source": [
    "import pandas as pd\n",
    "import requests\n",
    "\n",
    "API_URL = \"https://fedml.onrender.com/retrain\"\n",
    "\n",
    "# Convert DataFrame to JSON\n",
    "data_payload = {\n",
    "    \"features\": zone1_training_data[[\"depth\", \"mag\", \"gap\", \"dmin\", \"rms\"]].to_dict(orient=\"records\"),\n",
    "    \"latitude\": zone1_training_data[\"latitude\"].tolist(),\n",
    "    \"longitude\": zone1_training_data[\"longitude\"].tolist()\n",
    "}\n",
    "\n",
    "# Query parameter for filename\n",
    "params = {\"save_as\": \"zone_0_zone_1_training.pkl\"}\n",
    "\n",
    "# Send POST request\n",
    "response = requests.post(API_URL, params=params, json=data_payload)\n",
    "\n",
    "# Print server response\n",
    "print(response.json())"
   ]
  }
 ],
 "metadata": {
  "kernelspec": {
   "display_name": "Python 3",
   "language": "python",
   "name": "python3"
  },
  "language_info": {
   "codemirror_mode": {
    "name": "ipython",
    "version": 3
   },
   "file_extension": ".py",
   "mimetype": "text/x-python",
   "name": "python",
   "nbconvert_exporter": "python",
   "pygments_lexer": "ipython3",
   "version": "3.12.6"
  }
 },
 "nbformat": 4,
 "nbformat_minor": 2
}
