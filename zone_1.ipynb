{
 "cells": [
  {
   "cell_type": "code",
   "execution_count": 1,
   "metadata": {},
   "outputs": [],
   "source": [
    "import pandas as pd\n",
    "import requests\n",
    "import json\n",
    "from sklearn.metrics import mean_squared_error, r2_score, mean_absolute_error\n",
    "import numpy as np"
   ]
  },
  {
   "cell_type": "code",
   "execution_count": 2,
   "metadata": {},
   "outputs": [],
   "source": [
    "zone1_data = pd.read_csv(\"seismic_zone_1_val.csv\")"
   ]
  },
  {
   "cell_type": "code",
   "execution_count": 3,
   "metadata": {},
   "outputs": [],
   "source": [
    "FEATURES = [\"depth\", \"mag\", \"gap\", \"dmin\", \"rms\"]\n",
    "X_test = zone1_data[FEATURES] \n",
    "y_true = zone1_data[[\"latitude\", \"longitude\"]]"
   ]
  },
  {
   "cell_type": "code",
   "execution_count": null,
   "metadata": {},
   "outputs": [],
   "source": [
    "API_URL = \"https://fedml.onrender.com/predict\"\n",
    "\n",
    "predictions = []\n",
    "\n",
    "for _, row in X_test.iterrows():\n",
    "    payload = row.to_dict()\n",
    "    \n",
    "    response = requests.post(API_URL, json=payload)\n",
    "    \n",
    "    if response.status_code == 200:\n",
    "        pred = response.json()[\"prediction\"]\n",
    "        predictions.append(pred[0])\n",
    "    else:\n",
    "        print(f\"Error for input {row}: {response.text}\")"
   ]
  },
  {
   "cell_type": "code",
   "execution_count": 15,
   "metadata": {},
   "outputs": [
    {
     "name": "stdout",
     "output_type": "stream",
     "text": [
      "[[[9.104788999999997, 126.30407699999991]], [[9.046328, 126.55313699999995]], [[8.464489999999998, 126.89308100000005]], [[11.474763999999999, 123.288332]], [[10.214765000000007, 124.19327299999986]], [[12.203899999999997, 123.89699900000001]], [[7.967854, 125.26291499999999]], [[9.173031, 126.54832099999994]], [[10.935919000000004, 124.91359200000001]], [[10.944843999999998, 124.93166500000005]], [[11.284814999999998, 124.55103300000005]], [[7.950206999999997, 125.35398200000004]], [[11.046110000000004, 125.196334]], [[9.737944999999995, 125.08066299999994]], [[10.351885999999995, 125.87100900000004]], [[10.858643000000002, 124.594634]], [[8.008827000000005, 125.98612999999992]], [[7.874467000000002, 126.23150300000005]], [[7.956059000000006, 126.09881800000002]], [[9.108523000000002, 125.43237199999997]], [[8.878331999999999, 126.37440199999986]], [[11.281902999999991, 124.34894699999995]], [[9.824016999999994, 125.61612199999992]], [[8.372584000000003, 126.98547800000001]], [[10.761912999999998, 124.93298699999993]], [[11.415660000000003, 125.43251700000002]], [[9.486981999999992, 123.311485]], [[10.247308999999996, 126.32312299999994]], [[10.490867999999999, 125.5851639999999]], [[8.449156000000004, 126.31086399999997]], [[11.408601000000008, 123.85364900000005]], [[9.656841000000004, 124.2228430000001]], [[10.717346000000004, 125.16715699999995]], [[9.185305000000001, 125.50034]], [[9.510257999999999, 125.22056999999997]], [[10.317606999999995, 123.71437900000001]], [[9.109059999999998, 125.38819899999993]], [[10.694694999999992, 125.28654300000011]], [[12.032937000000004, 123.68933900000003]], [[11.431242000000003, 124.81775999999996]], [[10.301214999999996, 125.15041000000001]], [[11.719346000000005, 124.81479599999999]], [[9.753712000000002, 126.13077799999998]], [[8.794877, 126.72810000000001]], [[8.145272999999998, 127.06956200000012]], [[11.944477000000001, 124.20205100000001]], [[10.652103000000006, 124.03865699999997]], [[9.34438, 124.014836]], [[8.866718000000002, 126.77020399999994]], [[11.989393999999999, 124.59694999999998]], [[11.026203999999998, 123.80221399999999]], [[8.227457999999999, 126.351461]], [[10.155867999999998, 125.167608]], [[10.858013000000001, 124.34779500000002]], [[10.69010899999999, 125.45878199999997]], [[9.338410000000001, 125.33695199999984]], [[11.298279999999991, 125.42881399999996]], [[8.030131000000006, 125.76574199999988]], [[11.212730000000006, 125.3992510000001]], [[9.525843, 125.74805399999987]], [[9.546828000000003, 125.48215999999996]], [[12.252627000000002, 124.64132300000001]], [[9.935183999999996, 124.48055299999992]], [[11.126742000000004, 124.90140699999995]], [[8.848908, 125.08806600000005]], [[8.325822000000002, 126.7048079999999]], [[8.951650000000006, 126.67491699999988]], [[8.004341999999998, 125.59301899999998]], [[10.737065000000005, 125.01554399999993]], [[8.234083, 126.29970499999996]], [[11.623583000000005, 125.2609690000001]], [[10.417322999999993, 125.49194400000006]], [[10.751701999999996, 125.30967299999999]], [[10.847149000000003, 125.10971099999995]], [[10.346681000000004, 125.40198299999992]], [[12.067560999999998, 124.11440799999998]], [[10.836399000000005, 125.053502]], [[11.369145000000001, 123.39927999999998]], [[10.772874000000003, 125.07691300000002]], [[7.926398000000003, 126.21749300000009]], [[7.894852999999995, 125.35213600000002]], [[9.870767999999995, 126.02157199999992]], [[9.084173000000002, 126.53511700000007]], [[9.865826999999985, 125.8117809999999]], [[12.307347, 124.412858]], [[9.432419000000001, 125.38124799999996]], [[11.138014000000005, 125.0172889999999]], [[10.886353000000003, 124.99186099999999]], [[11.257742999999998, 125.5671670000001]], [[11.094826999999995, 124.17767899999998]], [[9.53019400000001, 126.82475000000004]], [[7.865093000000002, 126.28155100000005]], [[9.752669000000003, 126.83888399999996]], [[11.054143000000002, 125.482225]], [[12.196712999999999, 124.52229399999999]], [[10.45612200000001, 123.25539399999991]], [[10.578985999999995, 125.52879399999989]], [[9.166673999999997, 124.24573800000002]], [[12.105394999999998, 124.0865389999999]], [[8.723515999999996, 125.88747699999996]], [[10.413150999999992, 126.02070500000012]], [[10.538337000000004, 125.71393300000005]], [[9.470544000000004, 123.86915499999999]], [[10.156769000000002, 124.93686200000002]], [[10.246254999999998, 125.85431499999999]], [[12.233848999999996, 124.650281]], [[10.866549000000003, 125.41352699999992]], [[10.701951, 123.97134299999999]], [[7.895284000000001, 126.22133400000003]], [[8.184842, 126.934848]], [[11.233867, 125.44423100000007]], [[11.797455000000003, 124.78351700000006]], [[8.208925000000004, 126.2964969999999]], [[10.727176, 124.78168999999988]], [[9.145775, 125.69838999999989]], [[11.671666000000007, 125.66597500000016]], [[9.198371999999996, 126.52229399999999]], [[8.811396999999992, 126.462665]], [[10.300248000000003, 125.26615700000002]]]\n"
     ]
    }
   ],
   "source": [
    "print(predictions)"
   ]
  },
  {
   "cell_type": "code",
   "execution_count": 13,
   "metadata": {},
   "outputs": [
    {
     "ename": "ValueError",
     "evalue": "2 columns passed, passed data had 1 columns",
     "output_type": "error",
     "traceback": [
      "\u001b[1;31m---------------------------------------------------------------------------\u001b[0m",
      "\u001b[1;31mAssertionError\u001b[0m                            Traceback (most recent call last)",
      "File \u001b[1;32m~\\AppData\\Roaming\\Python\\Python312\\site-packages\\pandas\\core\\internals\\construction.py:939\u001b[0m, in \u001b[0;36m_finalize_columns_and_data\u001b[1;34m(content, columns, dtype)\u001b[0m\n\u001b[0;32m    938\u001b[0m \u001b[38;5;28;01mtry\u001b[39;00m:\n\u001b[1;32m--> 939\u001b[0m     columns \u001b[38;5;241m=\u001b[39m \u001b[43m_validate_or_indexify_columns\u001b[49m\u001b[43m(\u001b[49m\u001b[43mcontents\u001b[49m\u001b[43m,\u001b[49m\u001b[43m \u001b[49m\u001b[43mcolumns\u001b[49m\u001b[43m)\u001b[49m\n\u001b[0;32m    940\u001b[0m \u001b[38;5;28;01mexcept\u001b[39;00m \u001b[38;5;167;01mAssertionError\u001b[39;00m \u001b[38;5;28;01mas\u001b[39;00m err:\n\u001b[0;32m    941\u001b[0m     \u001b[38;5;66;03m# GH#26429 do not raise user-facing AssertionError\u001b[39;00m\n",
      "File \u001b[1;32m~\\AppData\\Roaming\\Python\\Python312\\site-packages\\pandas\\core\\internals\\construction.py:986\u001b[0m, in \u001b[0;36m_validate_or_indexify_columns\u001b[1;34m(content, columns)\u001b[0m\n\u001b[0;32m    984\u001b[0m \u001b[38;5;28;01mif\u001b[39;00m \u001b[38;5;129;01mnot\u001b[39;00m is_mi_list \u001b[38;5;129;01mand\u001b[39;00m \u001b[38;5;28mlen\u001b[39m(columns) \u001b[38;5;241m!=\u001b[39m \u001b[38;5;28mlen\u001b[39m(content):  \u001b[38;5;66;03m# pragma: no cover\u001b[39;00m\n\u001b[0;32m    985\u001b[0m     \u001b[38;5;66;03m# caller's responsibility to check for this...\u001b[39;00m\n\u001b[1;32m--> 986\u001b[0m     \u001b[38;5;28;01mraise\u001b[39;00m \u001b[38;5;167;01mAssertionError\u001b[39;00m(\n\u001b[0;32m    987\u001b[0m         \u001b[38;5;124mf\u001b[39m\u001b[38;5;124m\"\u001b[39m\u001b[38;5;132;01m{\u001b[39;00m\u001b[38;5;28mlen\u001b[39m(columns)\u001b[38;5;132;01m}\u001b[39;00m\u001b[38;5;124m columns passed, passed data had \u001b[39m\u001b[38;5;124m\"\u001b[39m\n\u001b[0;32m    988\u001b[0m         \u001b[38;5;124mf\u001b[39m\u001b[38;5;124m\"\u001b[39m\u001b[38;5;132;01m{\u001b[39;00m\u001b[38;5;28mlen\u001b[39m(content)\u001b[38;5;132;01m}\u001b[39;00m\u001b[38;5;124m columns\u001b[39m\u001b[38;5;124m\"\u001b[39m\n\u001b[0;32m    989\u001b[0m     )\n\u001b[0;32m    990\u001b[0m \u001b[38;5;28;01mif\u001b[39;00m is_mi_list:\n\u001b[0;32m    991\u001b[0m     \u001b[38;5;66;03m# check if nested list column, length of each sub-list should be equal\u001b[39;00m\n",
      "\u001b[1;31mAssertionError\u001b[0m: 2 columns passed, passed data had 1 columns",
      "\nThe above exception was the direct cause of the following exception:\n",
      "\u001b[1;31mValueError\u001b[0m                                Traceback (most recent call last)",
      "Cell \u001b[1;32mIn[13], line 1\u001b[0m\n\u001b[1;32m----> 1\u001b[0m y_pred \u001b[38;5;241m=\u001b[39m \u001b[43mpd\u001b[49m\u001b[38;5;241;43m.\u001b[39;49m\u001b[43mDataFrame\u001b[49m\u001b[43m(\u001b[49m\u001b[43mpredictions\u001b[49m\u001b[43m,\u001b[49m\u001b[43m \u001b[49m\u001b[43mcolumns\u001b[49m\u001b[38;5;241;43m=\u001b[39;49m\u001b[43m[\u001b[49m\u001b[38;5;124;43m\"\u001b[39;49m\u001b[38;5;124;43mlatitude\u001b[39;49m\u001b[38;5;124;43m\"\u001b[39;49m\u001b[43m,\u001b[49m\u001b[43m \u001b[49m\u001b[38;5;124;43m\"\u001b[39;49m\u001b[38;5;124;43mlongitude\u001b[39;49m\u001b[38;5;124;43m\"\u001b[39;49m\u001b[43m]\u001b[49m\u001b[43m)\u001b[49m\n",
      "File \u001b[1;32m~\\AppData\\Roaming\\Python\\Python312\\site-packages\\pandas\\core\\frame.py:851\u001b[0m, in \u001b[0;36mDataFrame.__init__\u001b[1;34m(self, data, index, columns, dtype, copy)\u001b[0m\n\u001b[0;32m    849\u001b[0m     \u001b[38;5;28;01mif\u001b[39;00m columns \u001b[38;5;129;01mis\u001b[39;00m \u001b[38;5;129;01mnot\u001b[39;00m \u001b[38;5;28;01mNone\u001b[39;00m:\n\u001b[0;32m    850\u001b[0m         columns \u001b[38;5;241m=\u001b[39m ensure_index(columns)\n\u001b[1;32m--> 851\u001b[0m     arrays, columns, index \u001b[38;5;241m=\u001b[39m \u001b[43mnested_data_to_arrays\u001b[49m\u001b[43m(\u001b[49m\n\u001b[0;32m    852\u001b[0m \u001b[43m        \u001b[49m\u001b[38;5;66;43;03m# error: Argument 3 to \"nested_data_to_arrays\" has incompatible\u001b[39;49;00m\n\u001b[0;32m    853\u001b[0m \u001b[43m        \u001b[49m\u001b[38;5;66;43;03m# type \"Optional[Collection[Any]]\"; expected \"Optional[Index]\"\u001b[39;49;00m\n\u001b[0;32m    854\u001b[0m \u001b[43m        \u001b[49m\u001b[43mdata\u001b[49m\u001b[43m,\u001b[49m\n\u001b[0;32m    855\u001b[0m \u001b[43m        \u001b[49m\u001b[43mcolumns\u001b[49m\u001b[43m,\u001b[49m\n\u001b[0;32m    856\u001b[0m \u001b[43m        \u001b[49m\u001b[43mindex\u001b[49m\u001b[43m,\u001b[49m\u001b[43m  \u001b[49m\u001b[38;5;66;43;03m# type: ignore[arg-type]\u001b[39;49;00m\n\u001b[0;32m    857\u001b[0m \u001b[43m        \u001b[49m\u001b[43mdtype\u001b[49m\u001b[43m,\u001b[49m\n\u001b[0;32m    858\u001b[0m \u001b[43m    \u001b[49m\u001b[43m)\u001b[49m\n\u001b[0;32m    859\u001b[0m     mgr \u001b[38;5;241m=\u001b[39m arrays_to_mgr(\n\u001b[0;32m    860\u001b[0m         arrays,\n\u001b[0;32m    861\u001b[0m         columns,\n\u001b[1;32m   (...)\u001b[0m\n\u001b[0;32m    864\u001b[0m         typ\u001b[38;5;241m=\u001b[39mmanager,\n\u001b[0;32m    865\u001b[0m     )\n\u001b[0;32m    866\u001b[0m \u001b[38;5;28;01melse\u001b[39;00m:\n",
      "File \u001b[1;32m~\\AppData\\Roaming\\Python\\Python312\\site-packages\\pandas\\core\\internals\\construction.py:520\u001b[0m, in \u001b[0;36mnested_data_to_arrays\u001b[1;34m(data, columns, index, dtype)\u001b[0m\n\u001b[0;32m    517\u001b[0m \u001b[38;5;28;01mif\u001b[39;00m is_named_tuple(data[\u001b[38;5;241m0\u001b[39m]) \u001b[38;5;129;01mand\u001b[39;00m columns \u001b[38;5;129;01mis\u001b[39;00m \u001b[38;5;28;01mNone\u001b[39;00m:\n\u001b[0;32m    518\u001b[0m     columns \u001b[38;5;241m=\u001b[39m ensure_index(data[\u001b[38;5;241m0\u001b[39m]\u001b[38;5;241m.\u001b[39m_fields)\n\u001b[1;32m--> 520\u001b[0m arrays, columns \u001b[38;5;241m=\u001b[39m \u001b[43mto_arrays\u001b[49m\u001b[43m(\u001b[49m\u001b[43mdata\u001b[49m\u001b[43m,\u001b[49m\u001b[43m \u001b[49m\u001b[43mcolumns\u001b[49m\u001b[43m,\u001b[49m\u001b[43m \u001b[49m\u001b[43mdtype\u001b[49m\u001b[38;5;241;43m=\u001b[39;49m\u001b[43mdtype\u001b[49m\u001b[43m)\u001b[49m\n\u001b[0;32m    521\u001b[0m columns \u001b[38;5;241m=\u001b[39m ensure_index(columns)\n\u001b[0;32m    523\u001b[0m \u001b[38;5;28;01mif\u001b[39;00m index \u001b[38;5;129;01mis\u001b[39;00m \u001b[38;5;28;01mNone\u001b[39;00m:\n",
      "File \u001b[1;32m~\\AppData\\Roaming\\Python\\Python312\\site-packages\\pandas\\core\\internals\\construction.py:845\u001b[0m, in \u001b[0;36mto_arrays\u001b[1;34m(data, columns, dtype)\u001b[0m\n\u001b[0;32m    842\u001b[0m     data \u001b[38;5;241m=\u001b[39m [\u001b[38;5;28mtuple\u001b[39m(x) \u001b[38;5;28;01mfor\u001b[39;00m x \u001b[38;5;129;01min\u001b[39;00m data]\n\u001b[0;32m    843\u001b[0m     arr \u001b[38;5;241m=\u001b[39m _list_to_arrays(data)\n\u001b[1;32m--> 845\u001b[0m content, columns \u001b[38;5;241m=\u001b[39m \u001b[43m_finalize_columns_and_data\u001b[49m\u001b[43m(\u001b[49m\u001b[43marr\u001b[49m\u001b[43m,\u001b[49m\u001b[43m \u001b[49m\u001b[43mcolumns\u001b[49m\u001b[43m,\u001b[49m\u001b[43m \u001b[49m\u001b[43mdtype\u001b[49m\u001b[43m)\u001b[49m\n\u001b[0;32m    846\u001b[0m \u001b[38;5;28;01mreturn\u001b[39;00m content, columns\n",
      "File \u001b[1;32m~\\AppData\\Roaming\\Python\\Python312\\site-packages\\pandas\\core\\internals\\construction.py:942\u001b[0m, in \u001b[0;36m_finalize_columns_and_data\u001b[1;34m(content, columns, dtype)\u001b[0m\n\u001b[0;32m    939\u001b[0m     columns \u001b[38;5;241m=\u001b[39m _validate_or_indexify_columns(contents, columns)\n\u001b[0;32m    940\u001b[0m \u001b[38;5;28;01mexcept\u001b[39;00m \u001b[38;5;167;01mAssertionError\u001b[39;00m \u001b[38;5;28;01mas\u001b[39;00m err:\n\u001b[0;32m    941\u001b[0m     \u001b[38;5;66;03m# GH#26429 do not raise user-facing AssertionError\u001b[39;00m\n\u001b[1;32m--> 942\u001b[0m     \u001b[38;5;28;01mraise\u001b[39;00m \u001b[38;5;167;01mValueError\u001b[39;00m(err) \u001b[38;5;28;01mfrom\u001b[39;00m\u001b[38;5;250m \u001b[39m\u001b[38;5;21;01merr\u001b[39;00m\n\u001b[0;32m    944\u001b[0m \u001b[38;5;28;01mif\u001b[39;00m \u001b[38;5;28mlen\u001b[39m(contents) \u001b[38;5;129;01mand\u001b[39;00m contents[\u001b[38;5;241m0\u001b[39m]\u001b[38;5;241m.\u001b[39mdtype \u001b[38;5;241m==\u001b[39m np\u001b[38;5;241m.\u001b[39mobject_:\n\u001b[0;32m    945\u001b[0m     contents \u001b[38;5;241m=\u001b[39m convert_object_array(contents, dtype\u001b[38;5;241m=\u001b[39mdtype)\n",
      "\u001b[1;31mValueError\u001b[0m: 2 columns passed, passed data had 1 columns"
     ]
    }
   ],
   "source": [
    "y_pred = pd.DataFrame(predictions, columns=[\"latitude\", \"longitude\"])"
   ]
  }
 ],
 "metadata": {
  "kernelspec": {
   "display_name": "Python 3",
   "language": "python",
   "name": "python3"
  },
  "language_info": {
   "codemirror_mode": {
    "name": "ipython",
    "version": 3
   },
   "file_extension": ".py",
   "mimetype": "text/x-python",
   "name": "python",
   "nbconvert_exporter": "python",
   "pygments_lexer": "ipython3",
   "version": "3.12.6"
  }
 },
 "nbformat": 4,
 "nbformat_minor": 2
}
