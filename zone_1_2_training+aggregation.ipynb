{
 "cells": [
  {
   "cell_type": "code",
   "execution_count": 87,
   "metadata": {},
   "outputs": [],
   "source": [
    "import pandas as pd\n",
    "import requests\n",
    "import json\n",
    "from sklearn.metrics import mean_squared_error, r2_score, mean_absolute_error\n",
    "import numpy as np"
   ]
  },
  {
   "cell_type": "code",
   "execution_count": 88,
   "metadata": {},
   "outputs": [],
   "source": [
    "# Load training and validation datasets\n",
    "zone_1_training_data = pd.read_csv(\"seismic_zone_1.csv\")\n",
    "zone_1_val_data = pd.read_csv(\"seismic_zone_1_val.csv\")\n",
    "\n",
    "zone_2_training_data = pd.read_csv(\"seismic_zone_2.csv\")\n",
    "zone_2_val_data = pd.read_csv(\"seismic_zone_2_val.csv\")"
   ]
  },
  {
   "cell_type": "code",
   "execution_count": null,
   "metadata": {},
   "outputs": [],
   "source": [
    "# Define function for loading validation data\n",
    "FEATURES = [\"depth\", \"mag\", \"gap\", \"dmin\", \"rms\"]\n",
    "def load_val_data(df):\n",
    "    X_test = df[FEATURES] \n",
    "    y_true = df[[\"latitude\", \"longitude\"]]\n",
    "    \n",
    "    return X_test, y_true\n",
    "\n",
    "# API calls\n",
    "def predict(url, X_test):\n",
    "    API_URL = f'{url}/predict'\n",
    "\n",
    "    predictions = []\n",
    "\n",
    "    for _, row in X_test.iterrows():\n",
    "        payload = row.to_dict()\n",
    "        \n",
    "        response = requests.post(API_URL, json=payload)\n",
    "        \n",
    "        if response.status_code == 200:\n",
    "            pred = response.json()[\"prediction\"]\n",
    "            predictions.append(pred[0])\n",
    "        else:\n",
    "            print(f\"Error for input {row}: {response.text}\")\n",
    "            \n",
    "    return predictions\n",
    "\n",
    "def evaluate_predictions(model_response, true_value):\n",
    "    y_pred = pd.DataFrame(model_response, columns=[\"latitude\", \"longitude\"])\n",
    "    \n",
    "    y_pred = pd.DataFrame(model_response, columns=[\"latitude\", \"longitude\"])\n",
    "    true_value = true_value.reset_index(drop=True)\n",
    "\n",
    "    mse_lat = mean_squared_error(true_value[\"latitude\"], y_pred[\"latitude\"])\n",
    "    mse_lon = mean_squared_error(true_value[\"longitude\"], y_pred[\"longitude\"])\n",
    "\n",
    "    r2_lat = r2_score(true_value[\"latitude\"], y_pred[\"latitude\"])\n",
    "    r2_lon = r2_score(true_value[\"longitude\"], y_pred[\"longitude\"])\n",
    "\n",
    "    mae_lat = mean_absolute_error(true_value[\"latitude\"], y_pred[\"latitude\"])\n",
    "    mae_lon = mean_absolute_error(true_value[\"longitude\"], y_pred[\"longitude\"])\n",
    "\n",
    "    print(f\"Mean Squared Error (Latitude): {mse_lat}\")\n",
    "    print(f\"Mean Squared Error (Longitude): {mse_lon}\\n\")\n",
    "\n",
    "    print(f\"R² Score (Latitude): {r2_lat}\")\n",
    "    print(f\"R² Score (Longitude): {r2_lon}\\n\")\n",
    "\n",
    "    print(f\"Mean Absolute Error (Latitude): {mae_lat}\")\n",
    "    print(f\"Mean Absolute Error (Longitude): {mae_lon}\")\n",
    "    \n",
    "def retrain(url, df, save_as=\"updated_model.pkl\"):\n",
    "    API_URL = f'{url}/retrain'\n",
    "    \n",
    "    data_payload = {\n",
    "        \"features\": df[[\"depth\", \"mag\", \"gap\", \"dmin\", \"rms\"]].to_dict(orient=\"records\"),\n",
    "        \"latitude\": df[\"latitude\"].tolist(),\n",
    "        \"longitude\": df[\"longitude\"].tolist()\n",
    "    }\n",
    "\n",
    "    params = {\"save_as\": save_as}\n",
    "    response = requests.post(API_URL, params=params, json=data_payload)\n",
    "    print(response.json())\n",
    "    \n",
    "def list_models(url):\n",
    "    print(requests.get(f'{url}/list_models').json())\n",
    "    \n",
    "def reload_model(url, model_name):\n",
    "    API_URL = f'{url}/reload_model'\n",
    "    params = {\"model_name\": model_name}\n",
    "\n",
    "    response = requests.post(API_URL, params=params)\n",
    "    print(response.json())\n",
    "    \n",
    "def download_model(url, model_name):\n",
    "    API_URL = f'{url}/download_model'\n",
    "    params = {\"model_name\": model_name}\n",
    "    \n",
    "    response = requests.get(API_URL, params=params)\n",
    "    \n",
    "    if response.status_code == 200:\n",
    "        with open(model_name, \"wb\") as file:\n",
    "            file.write(response.content)\n",
    "        print(f\"✅ {model_name} downloaded successfully!\")\n",
    "    else:\n",
    "        print(f\"❌ Failed to download {model_name}. Error: {response.json()}\")\n",
    "    \n",
    "def upload_model(url, model_file):\n",
    "    API_URL = f'{url}/upload_model'\n",
    "\n",
    "    with open(model_file, \"rb\") as file:\n",
    "        response = requests.post(API_URL, files={\"file\": file})\n",
    "        \n",
    "    print(response.json())"
   ]
  },
  {
   "cell_type": "markdown",
   "metadata": {},
   "source": [
    "# Zone 1"
   ]
  },
  {
   "cell_type": "code",
   "execution_count": 90,
   "metadata": {},
   "outputs": [],
   "source": [
    "zone1_API = \"https://fedml.onrender.com\"\n",
    "X_1, y_1 = load_val_data(zone_1_val_data)"
   ]
  },
  {
   "cell_type": "code",
   "execution_count": 91,
   "metadata": {},
   "outputs": [
    {
     "name": "stdout",
     "output_type": "stream",
     "text": [
      "{'saved_models': ['zone_0_zone_1_model.pkl', 'zone_0_model.pkl']}\n"
     ]
    }
   ],
   "source": [
    "list_models(zone1_API)"
   ]
  },
  {
   "cell_type": "code",
   "execution_count": 92,
   "metadata": {},
   "outputs": [],
   "source": [
    "predictions = predict(zone1_API, X_1)"
   ]
  },
  {
   "cell_type": "code",
   "execution_count": 93,
   "metadata": {},
   "outputs": [
    {
     "name": "stdout",
     "output_type": "stream",
     "text": [
      "Mean Squared Error (Latitude): 55.6867846556177\n",
      "Mean Squared Error (Longitude): 22.85913167833489\n",
      "\n",
      "R² Score (Latitude): -5.6006510125206415\n",
      "R² Score (Longitude): -21.468817233732548\n",
      "\n",
      "Mean Absolute Error (Latitude): 6.683537563025212\n",
      "Mean Absolute Error (Longitude): 4.655139546218472\n"
     ]
    }
   ],
   "source": [
    "evaluate_predictions(predictions, y_1)"
   ]
  },
  {
   "cell_type": "code",
   "execution_count": 94,
   "metadata": {},
   "outputs": [
    {
     "name": "stdout",
     "output_type": "stream",
     "text": [
      "{'message': 'Model retrained and saved as zone_0_zone_1_model.pkl.'}\n"
     ]
    }
   ],
   "source": [
    "retrain(zone1_API, zone_1_training_data, 'zone_0_zone_1_model.pkl')"
   ]
  },
  {
   "cell_type": "code",
   "execution_count": 95,
   "metadata": {},
   "outputs": [
    {
     "name": "stdout",
     "output_type": "stream",
     "text": [
      "{'saved_models': ['zone_0_zone_1_model.pkl', 'zone_0_model.pkl']}\n"
     ]
    }
   ],
   "source": [
    "list_models(zone1_API)"
   ]
  },
  {
   "cell_type": "code",
   "execution_count": 96,
   "metadata": {},
   "outputs": [
    {
     "name": "stdout",
     "output_type": "stream",
     "text": [
      "{'message': '✅ Model zone_0_zone_1_model.pkl successfully reloaded!'}\n"
     ]
    }
   ],
   "source": [
    "reload_model(zone1_API, 'zone_0_zone_1_model.pkl')"
   ]
  },
  {
   "cell_type": "code",
   "execution_count": 97,
   "metadata": {},
   "outputs": [],
   "source": [
    "predictions_1 = predict(zone1_API, X_1)"
   ]
  },
  {
   "cell_type": "code",
   "execution_count": 98,
   "metadata": {},
   "outputs": [
    {
     "name": "stdout",
     "output_type": "stream",
     "text": [
      "Mean Squared Error (Latitude): 55.6867846556177\n",
      "Mean Squared Error (Longitude): 22.85913167833489\n",
      "\n",
      "R² Score (Latitude): -5.6006510125206415\n",
      "R² Score (Longitude): -21.468817233732548\n",
      "\n",
      "Mean Absolute Error (Latitude): 6.683537563025212\n",
      "Mean Absolute Error (Longitude): 4.655139546218472\n"
     ]
    }
   ],
   "source": [
    "evaluate_predictions(predictions, y_1)"
   ]
  },
  {
   "cell_type": "code",
   "execution_count": 99,
   "metadata": {},
   "outputs": [
    {
     "name": "stdout",
     "output_type": "stream",
     "text": [
      "✅ zone_0_zone_1_model.pkl downloaded successfully!\n"
     ]
    }
   ],
   "source": [
    "download_model(zone1_API, 'zone_0_zone_1_model.pkl')"
   ]
  },
  {
   "cell_type": "markdown",
   "metadata": {},
   "source": [
    "# Zone 2"
   ]
  },
  {
   "cell_type": "code",
   "execution_count": 100,
   "metadata": {},
   "outputs": [],
   "source": [
    "zone2_API = \"https://fedml-zone2.onrender.com\"\n",
    "X_2, y_2 = load_val_data(zone_2_val_data)"
   ]
  },
  {
   "cell_type": "code",
   "execution_count": 101,
   "metadata": {},
   "outputs": [
    {
     "name": "stdout",
     "output_type": "stream",
     "text": [
      "{'saved_models': ['zone_0_model.pkl', 'zone_0_zone_1_model.pkl']}\n"
     ]
    }
   ],
   "source": [
    "list_models(zone2_API)"
   ]
  },
  {
   "cell_type": "code",
   "execution_count": 102,
   "metadata": {},
   "outputs": [],
   "source": [
    "predictions_2 = predict(zone2_API, X_2)"
   ]
  },
  {
   "cell_type": "code",
   "execution_count": 103,
   "metadata": {},
   "outputs": [
    {
     "name": "stdout",
     "output_type": "stream",
     "text": [
      "Mean Squared Error (Latitude): 8.581386455635915\n",
      "Mean Squared Error (Longitude): 1.419967758709142\n",
      "\n",
      "R² Score (Latitude): -12.975120181897791\n",
      "R² Score (Longitude): -0.03546827145377596\n",
      "\n",
      "Mean Absolute Error (Latitude): 2.598107553333334\n",
      "Mean Absolute Error (Longitude): 0.8375822466666637\n"
     ]
    }
   ],
   "source": [
    "evaluate_predictions(predictions_2, y_2)"
   ]
  },
  {
   "cell_type": "code",
   "execution_count": 104,
   "metadata": {},
   "outputs": [
    {
     "name": "stdout",
     "output_type": "stream",
     "text": [
      "{'message': 'Model retrained and saved as zone_0_zone_2_model.pkl.'}\n"
     ]
    }
   ],
   "source": [
    "retrain(zone2_API, zone_2_training_data, \"zone_0_zone_2_model.pkl\")"
   ]
  },
  {
   "cell_type": "code",
   "execution_count": 105,
   "metadata": {},
   "outputs": [
    {
     "name": "stdout",
     "output_type": "stream",
     "text": [
      "{'saved_models': ['zone_0_model.pkl', 'zone_0_zone_1_model.pkl', 'zone_0_zone_2_model.pkl']}\n"
     ]
    }
   ],
   "source": [
    "list_models(zone2_API)"
   ]
  },
  {
   "cell_type": "code",
   "execution_count": 106,
   "metadata": {},
   "outputs": [
    {
     "name": "stdout",
     "output_type": "stream",
     "text": [
      "{'message': '✅ Model zone_0_zone_2_model.pkl successfully reloaded!'}\n"
     ]
    }
   ],
   "source": [
    "reload_model(zone2_API, \"zone_0_zone_2_model.pkl\")"
   ]
  },
  {
   "cell_type": "code",
   "execution_count": 107,
   "metadata": {},
   "outputs": [],
   "source": [
    "predictions_2 = predict(zone2_API, X_2)"
   ]
  },
  {
   "cell_type": "code",
   "execution_count": 108,
   "metadata": {},
   "outputs": [
    {
     "name": "stdout",
     "output_type": "stream",
     "text": [
      "Mean Squared Error (Latitude): 0.28959644008745367\n",
      "Mean Squared Error (Longitude): 0.6505956206239898\n",
      "\n",
      "R² Score (Latitude): 0.5283809818617452\n",
      "R² Score (Longitude): 0.5255729444763328\n",
      "\n",
      "Mean Absolute Error (Latitude): 0.36367409333333334\n",
      "Mean Absolute Error (Longitude): 0.4909193933333293\n"
     ]
    }
   ],
   "source": [
    "evaluate_predictions(predictions_2, y_2)"
   ]
  },
  {
   "cell_type": "code",
   "execution_count": 109,
   "metadata": {},
   "outputs": [
    {
     "name": "stdout",
     "output_type": "stream",
     "text": [
      "✅ zone_0_zone_2_model.pkl downloaded successfully!\n"
     ]
    }
   ],
   "source": [
    "download_model(zone2_API, 'zone_0_zone_2_model.pkl')"
   ]
  },
  {
   "cell_type": "markdown",
   "metadata": {},
   "source": [
    "# Aggregation and Deployment of New Model"
   ]
  },
  {
   "cell_type": "code",
   "execution_count": 110,
   "metadata": {},
   "outputs": [],
   "source": [
    "from sklearn.ensemble import RandomForestRegressor\n",
    "import joblib"
   ]
  },
  {
   "cell_type": "code",
   "execution_count": 112,
   "metadata": {},
   "outputs": [],
   "source": [
    "zone_0_model = joblib.load(\"zone_0_model.pkl\")\n",
    "zone_1_model = joblib.load(\"zone_0_zone_1_model.pkl\")\n",
    "zone_2_model = joblib.load(\"zone_0_zone_2_model.pkl\")"
   ]
  },
  {
   "cell_type": "code",
   "execution_count": null,
   "metadata": {},
   "outputs": [
    {
     "name": "stdout",
     "output_type": "stream",
     "text": [
      "Federated Decision Boundary Approximation completed. Model saved as zone_0+1+2_model.pkl\n"
     ]
    }
   ],
   "source": []
  },
  {
   "cell_type": "code",
   "execution_count": 142,
   "metadata": {},
   "outputs": [
    {
     "name": "stdout",
     "output_type": "stream",
     "text": [
      "{'message': '✅ Model zone_0+1+2_model.pkl uploaded successfully!'}\n",
      "{'message': '✅ Model zone_0+1+2_model.pkl uploaded successfully!'}\n"
     ]
    }
   ],
   "source": [
    "upload_model(zone1_API, 'zone_0+1+2_model.pkl')\n",
    "upload_model(zone2_API, 'zone_0+1+2_model.pkl')"
   ]
  },
  {
   "cell_type": "code",
   "execution_count": 143,
   "metadata": {},
   "outputs": [
    {
     "name": "stdout",
     "output_type": "stream",
     "text": [
      "{'saved_models': ['zone_0_zone_1_model.pkl', 'zone_0_model.pkl', 'zone_0+1+2_model.pkl']}\n",
      "{'saved_models': ['zone_0_model.pkl', 'zone_0_zone_1_model.pkl', 'zone_0+1+2_model.pkl']}\n"
     ]
    }
   ],
   "source": [
    "list_models(zone1_API)\n",
    "list_models(zone2_API)"
   ]
  },
  {
   "cell_type": "markdown",
   "metadata": {},
   "source": [
    "# Testing on new aggregated model for Zone 1 and Zone 2"
   ]
  },
  {
   "cell_type": "code",
   "execution_count": 145,
   "metadata": {},
   "outputs": [
    {
     "name": "stdout",
     "output_type": "stream",
     "text": [
      "{'error': 'Model zone_0+1+2_model.pkl not found!'}\n"
     ]
    },
    {
     "ename": "JSONDecodeError",
     "evalue": "Expecting value: line 1 column 1 (char 0)",
     "output_type": "error",
     "traceback": [
      "\u001b[1;31m---------------------------------------------------------------------------\u001b[0m",
      "\u001b[1;31mJSONDecodeError\u001b[0m                           Traceback (most recent call last)",
      "File \u001b[1;32m~\\AppData\\Roaming\\Python\\Python312\\site-packages\\requests\\models.py:974\u001b[0m, in \u001b[0;36mResponse.json\u001b[1;34m(self, **kwargs)\u001b[0m\n\u001b[0;32m    973\u001b[0m \u001b[38;5;28;01mtry\u001b[39;00m:\n\u001b[1;32m--> 974\u001b[0m     \u001b[38;5;28;01mreturn\u001b[39;00m \u001b[43mcomplexjson\u001b[49m\u001b[38;5;241;43m.\u001b[39;49m\u001b[43mloads\u001b[49m\u001b[43m(\u001b[49m\u001b[38;5;28;43mself\u001b[39;49m\u001b[38;5;241;43m.\u001b[39;49m\u001b[43mtext\u001b[49m\u001b[43m,\u001b[49m\u001b[43m \u001b[49m\u001b[38;5;241;43m*\u001b[39;49m\u001b[38;5;241;43m*\u001b[39;49m\u001b[43mkwargs\u001b[49m\u001b[43m)\u001b[49m\n\u001b[0;32m    975\u001b[0m \u001b[38;5;28;01mexcept\u001b[39;00m JSONDecodeError \u001b[38;5;28;01mas\u001b[39;00m e:\n\u001b[0;32m    976\u001b[0m     \u001b[38;5;66;03m# Catch JSON-related errors and raise as requests.JSONDecodeError\u001b[39;00m\n\u001b[0;32m    977\u001b[0m     \u001b[38;5;66;03m# This aliases json.JSONDecodeError and simplejson.JSONDecodeError\u001b[39;00m\n",
      "File \u001b[1;32mc:\\Python312\\Lib\\json\\__init__.py:346\u001b[0m, in \u001b[0;36mloads\u001b[1;34m(s, cls, object_hook, parse_float, parse_int, parse_constant, object_pairs_hook, **kw)\u001b[0m\n\u001b[0;32m    343\u001b[0m \u001b[38;5;28;01mif\u001b[39;00m (\u001b[38;5;28mcls\u001b[39m \u001b[38;5;129;01mis\u001b[39;00m \u001b[38;5;28;01mNone\u001b[39;00m \u001b[38;5;129;01mand\u001b[39;00m object_hook \u001b[38;5;129;01mis\u001b[39;00m \u001b[38;5;28;01mNone\u001b[39;00m \u001b[38;5;129;01mand\u001b[39;00m\n\u001b[0;32m    344\u001b[0m         parse_int \u001b[38;5;129;01mis\u001b[39;00m \u001b[38;5;28;01mNone\u001b[39;00m \u001b[38;5;129;01mand\u001b[39;00m parse_float \u001b[38;5;129;01mis\u001b[39;00m \u001b[38;5;28;01mNone\u001b[39;00m \u001b[38;5;129;01mand\u001b[39;00m\n\u001b[0;32m    345\u001b[0m         parse_constant \u001b[38;5;129;01mis\u001b[39;00m \u001b[38;5;28;01mNone\u001b[39;00m \u001b[38;5;129;01mand\u001b[39;00m object_pairs_hook \u001b[38;5;129;01mis\u001b[39;00m \u001b[38;5;28;01mNone\u001b[39;00m \u001b[38;5;129;01mand\u001b[39;00m \u001b[38;5;129;01mnot\u001b[39;00m kw):\n\u001b[1;32m--> 346\u001b[0m     \u001b[38;5;28;01mreturn\u001b[39;00m \u001b[43m_default_decoder\u001b[49m\u001b[38;5;241;43m.\u001b[39;49m\u001b[43mdecode\u001b[49m\u001b[43m(\u001b[49m\u001b[43ms\u001b[49m\u001b[43m)\u001b[49m\n\u001b[0;32m    347\u001b[0m \u001b[38;5;28;01mif\u001b[39;00m \u001b[38;5;28mcls\u001b[39m \u001b[38;5;129;01mis\u001b[39;00m \u001b[38;5;28;01mNone\u001b[39;00m:\n",
      "File \u001b[1;32mc:\\Python312\\Lib\\json\\decoder.py:337\u001b[0m, in \u001b[0;36mJSONDecoder.decode\u001b[1;34m(self, s, _w)\u001b[0m\n\u001b[0;32m    333\u001b[0m \u001b[38;5;250m\u001b[39m\u001b[38;5;124;03m\"\"\"Return the Python representation of ``s`` (a ``str`` instance\u001b[39;00m\n\u001b[0;32m    334\u001b[0m \u001b[38;5;124;03mcontaining a JSON document).\u001b[39;00m\n\u001b[0;32m    335\u001b[0m \n\u001b[0;32m    336\u001b[0m \u001b[38;5;124;03m\"\"\"\u001b[39;00m\n\u001b[1;32m--> 337\u001b[0m obj, end \u001b[38;5;241m=\u001b[39m \u001b[38;5;28;43mself\u001b[39;49m\u001b[38;5;241;43m.\u001b[39;49m\u001b[43mraw_decode\u001b[49m\u001b[43m(\u001b[49m\u001b[43ms\u001b[49m\u001b[43m,\u001b[49m\u001b[43m \u001b[49m\u001b[43midx\u001b[49m\u001b[38;5;241;43m=\u001b[39;49m\u001b[43m_w\u001b[49m\u001b[43m(\u001b[49m\u001b[43ms\u001b[49m\u001b[43m,\u001b[49m\u001b[43m \u001b[49m\u001b[38;5;241;43m0\u001b[39;49m\u001b[43m)\u001b[49m\u001b[38;5;241;43m.\u001b[39;49m\u001b[43mend\u001b[49m\u001b[43m(\u001b[49m\u001b[43m)\u001b[49m\u001b[43m)\u001b[49m\n\u001b[0;32m    338\u001b[0m end \u001b[38;5;241m=\u001b[39m _w(s, end)\u001b[38;5;241m.\u001b[39mend()\n",
      "File \u001b[1;32mc:\\Python312\\Lib\\json\\decoder.py:355\u001b[0m, in \u001b[0;36mJSONDecoder.raw_decode\u001b[1;34m(self, s, idx)\u001b[0m\n\u001b[0;32m    354\u001b[0m \u001b[38;5;28;01mexcept\u001b[39;00m \u001b[38;5;167;01mStopIteration\u001b[39;00m \u001b[38;5;28;01mas\u001b[39;00m err:\n\u001b[1;32m--> 355\u001b[0m     \u001b[38;5;28;01mraise\u001b[39;00m JSONDecodeError(\u001b[38;5;124m\"\u001b[39m\u001b[38;5;124mExpecting value\u001b[39m\u001b[38;5;124m\"\u001b[39m, s, err\u001b[38;5;241m.\u001b[39mvalue) \u001b[38;5;28;01mfrom\u001b[39;00m\u001b[38;5;250m \u001b[39m\u001b[38;5;28;01mNone\u001b[39;00m\n\u001b[0;32m    356\u001b[0m \u001b[38;5;28;01mreturn\u001b[39;00m obj, end\n",
      "\u001b[1;31mJSONDecodeError\u001b[0m: Expecting value: line 1 column 1 (char 0)",
      "\nDuring handling of the above exception, another exception occurred:\n",
      "\u001b[1;31mJSONDecodeError\u001b[0m                           Traceback (most recent call last)",
      "Cell \u001b[1;32mIn[145], line 2\u001b[0m\n\u001b[0;32m      1\u001b[0m reload_model(zone1_API, \u001b[38;5;124m'\u001b[39m\u001b[38;5;124mzone_0+1+2_model.pkl\u001b[39m\u001b[38;5;124m'\u001b[39m)\n\u001b[1;32m----> 2\u001b[0m \u001b[43mreload_model\u001b[49m\u001b[43m(\u001b[49m\u001b[43mzone2_API\u001b[49m\u001b[43m,\u001b[49m\u001b[43m \u001b[49m\u001b[38;5;124;43m'\u001b[39;49m\u001b[38;5;124;43mzone_0+1+2_model.pkl\u001b[39;49m\u001b[38;5;124;43m'\u001b[39;49m\u001b[43m)\u001b[49m\n",
      "Cell \u001b[1;32mIn[89], line 73\u001b[0m, in \u001b[0;36mreload_model\u001b[1;34m(url, model_name)\u001b[0m\n\u001b[0;32m     70\u001b[0m params \u001b[38;5;241m=\u001b[39m {\u001b[38;5;124m\"\u001b[39m\u001b[38;5;124mmodel_name\u001b[39m\u001b[38;5;124m\"\u001b[39m: model_name}\n\u001b[0;32m     72\u001b[0m response \u001b[38;5;241m=\u001b[39m requests\u001b[38;5;241m.\u001b[39mpost(API_URL, params\u001b[38;5;241m=\u001b[39mparams)\n\u001b[1;32m---> 73\u001b[0m \u001b[38;5;28mprint\u001b[39m(\u001b[43mresponse\u001b[49m\u001b[38;5;241;43m.\u001b[39;49m\u001b[43mjson\u001b[49m\u001b[43m(\u001b[49m\u001b[43m)\u001b[49m)\n",
      "File \u001b[1;32m~\\AppData\\Roaming\\Python\\Python312\\site-packages\\requests\\models.py:978\u001b[0m, in \u001b[0;36mResponse.json\u001b[1;34m(self, **kwargs)\u001b[0m\n\u001b[0;32m    974\u001b[0m     \u001b[38;5;28;01mreturn\u001b[39;00m complexjson\u001b[38;5;241m.\u001b[39mloads(\u001b[38;5;28mself\u001b[39m\u001b[38;5;241m.\u001b[39mtext, \u001b[38;5;241m*\u001b[39m\u001b[38;5;241m*\u001b[39mkwargs)\n\u001b[0;32m    975\u001b[0m \u001b[38;5;28;01mexcept\u001b[39;00m JSONDecodeError \u001b[38;5;28;01mas\u001b[39;00m e:\n\u001b[0;32m    976\u001b[0m     \u001b[38;5;66;03m# Catch JSON-related errors and raise as requests.JSONDecodeError\u001b[39;00m\n\u001b[0;32m    977\u001b[0m     \u001b[38;5;66;03m# This aliases json.JSONDecodeError and simplejson.JSONDecodeError\u001b[39;00m\n\u001b[1;32m--> 978\u001b[0m     \u001b[38;5;28;01mraise\u001b[39;00m RequestsJSONDecodeError(e\u001b[38;5;241m.\u001b[39mmsg, e\u001b[38;5;241m.\u001b[39mdoc, e\u001b[38;5;241m.\u001b[39mpos)\n",
      "\u001b[1;31mJSONDecodeError\u001b[0m: Expecting value: line 1 column 1 (char 0)"
     ]
    }
   ],
   "source": [
    "reload_model(zone1_API, 'zone_0+1+2_model.pkl')\n",
    "reload_model(zone2_API, 'zone_0+1+2_model.pkl')"
   ]
  },
  {
   "cell_type": "code",
   "execution_count": 133,
   "metadata": {},
   "outputs": [],
   "source": [
    "#Zone 1\n",
    "predictions_1_agg = predict(zone1_API, X_1)"
   ]
  },
  {
   "cell_type": "code",
   "execution_count": 135,
   "metadata": {},
   "outputs": [
    {
     "name": "stdout",
     "output_type": "stream",
     "text": [
      "[111.0, 94.0, 120.0, 91.0, 123.0, 114.0, 155.0, 118.0, 97.0, 142.0, 80.0, 111.0, 76.0, 160.13063934326172, 136.0, 116.0, 81.0, 128.0, 112.0, 139.0, 116.0, 103.0, 89.0, 149.0, 116.0, 80.0, 99.0, 140.0, 97.0, 146.0, 118.0, 84.0, 111.0, 123.0, 126.0, 120.0, 115.0, 129.0, 116.0, 93.0, 115.0, 114.0, 112.0, 119.0, 155.0, 126.0, 71.0, 112.0, 106.0, 121.0, 100.0, 110.0, 76.0, 101.0, 130.0, 145.0, 122.0, 85.0, 122.0, 113.0, 116.0, 115.0, 151.0, 111.0, 122.0, 123.0, 145.0, 136.0, 132.0, 35.0, 95.0, 99.0, 97.0, 110.0, 115.0, 95.0, 97.0, 94.0, 105.0, 42.81885059356689, 118.0, 119.0, 124.0, 126.0, 31.53499984741211, 119.0, 46.254440269470216, 108.0, 133.0, 121.0, 125.0, 72.0, 136.0, 103.0, 65.0, 28.0, 97.0, 133.0, 132.0, 117.0, 118.0, 116.0, 106.0, 105.0, 88.0, 130.0, 70.0, 157.0, 105.0, 152.0, 120.0, 134.0, 138.0, 88.0, 114.0, 84.0, 111.0, 104.0, 127.0]\n"
     ]
    }
   ],
   "source": [
    "print(predictions_1_agg)"
   ]
  },
  {
   "cell_type": "code",
   "execution_count": null,
   "metadata": {},
   "outputs": [],
   "source": [
    "evaluate_predictions(predictions_1_agg, y_1)"
   ]
  },
  {
   "cell_type": "code",
   "execution_count": null,
   "metadata": {},
   "outputs": [],
   "source": [
    "# Zone 2\n",
    "predictions_2_agg = predict(zone2_API, X_2)"
   ]
  },
  {
   "cell_type": "code",
   "execution_count": 137,
   "metadata": {},
   "outputs": [
    {
     "name": "stdout",
     "output_type": "stream",
     "text": [
      "[121.0, 118.0, 59.0, 26.22, 117.0, 121.0, 115.0, 125.0, 114.0, 140.0, 123.0, 119.0, 154.0, 44.0, 128.0, 85.0, 73.0, 120.4857763671875, 122.0, 43.0, 76.0, 114.0, 125.0, 62.0, 120.0, 81.0, 137.0, 118.0, 111.0, 590.2712957763672, 85.0, 60.58656005859375, 89.0, 100.0, 116.0, 112.0, 110.0, 136.0, 117.0, 118.0, 122.0, 73.0, 74.0, 106.0, 67.0, 118.0, 136.0, 92.89970146179199, 114.0, 115.0, 140.0, 89.0, 107.0, 106.0, 103.0, 118.0, 127.0, 60.0, 132.0, 121.0, 113.0, 93.0, 79.85814071655274, 115.0, 70.0, 61.0, 200.94717239379884, 108.0, 110.0, 90.0, 67.0, 119.0, 445.4386068725586, 140.0, 140.0, 115.0, 66.0, 128.0, 82.0, 85.0, 115.0, 120.0, 135.0, 93.0, 134.0, 563.75, 79.0, 112.0, 107.0, 80.0, 95.0, 66.0, 118.0, 125.0, 155.0, 118.0, 126.0, 83.0, 160.0, 114.0, 101.0, 133.0, 87.0, 104.0, 58.0, 174.0, 110.0, 141.0, 49.84299850463867, 86.0, 126.0, 125.0, 105.0, 122.0, 85.0, 118.0, 72.0, 86.0, 82.8952904510498, 77.0, 118.0, 588.0885009765625, 41.0, 106.0, 114.0, 124.0, 541.3823291015625, 72.0, 135.0, 62.03240993499756, 47.0, 96.0, 107.0, 70.90931022644043, 95.0, 119.0, 174.0, 113.0, 99.0, 139.0, 116.0, 287.70419296264646, 134.20299911499023, 108.0, 112.0, 536.6808605957032, 113.0, 81.0, 80.0, 82.0]\n"
     ]
    }
   ],
   "source": [
    "print(predictions_2_agg)"
   ]
  },
  {
   "cell_type": "code",
   "execution_count": null,
   "metadata": {},
   "outputs": [],
   "source": [
    "evaluate_predictions(predictions_2_agg, y_2)"
   ]
  }
 ],
 "metadata": {
  "kernelspec": {
   "display_name": "Python 3",
   "language": "python",
   "name": "python3"
  },
  "language_info": {
   "codemirror_mode": {
    "name": "ipython",
    "version": 3
   },
   "file_extension": ".py",
   "mimetype": "text/x-python",
   "name": "python",
   "nbconvert_exporter": "python",
   "pygments_lexer": "ipython3",
   "version": "3.12.6"
  }
 },
 "nbformat": 4,
 "nbformat_minor": 2
}
